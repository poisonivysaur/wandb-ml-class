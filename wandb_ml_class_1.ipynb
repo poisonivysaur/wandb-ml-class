{
  "nbformat": 4,
  "nbformat_minor": 0,
  "metadata": {
    "colab": {
      "name": "wandb ml-class #1",
      "provenance": [],
      "authorship_tag": "ABX9TyONeLyhjPuHPQOzNN+rI+oP",
      "include_colab_link": true
    },
    "kernelspec": {
      "name": "python3",
      "display_name": "Python 3"
    }
  },
  "cells": [
    {
      "cell_type": "markdown",
      "metadata": {
        "id": "view-in-github",
        "colab_type": "text"
      },
      "source": [
        "<a href=\"https://colab.research.google.com/github/poisonivysaur/wandb-ml-class-OCR/blob/master/wandb_ml_class_1.ipynb\" target=\"_parent\"><img src=\"https://colab.research.google.com/assets/colab-badge.svg\" alt=\"Open In Colab\"/></a>"
      ]
    },
    {
      "cell_type": "markdown",
      "metadata": {
        "id": "ukA6VMIAwUEL",
        "colab_type": "text"
      },
      "source": [
        "# Build Your First Machine Learning Model (2019)\n",
        "\n",
        "## Optical Character Recognition from MNIST data\n",
        "\n",
        "https://www.youtube.com/watch?v=CbXj7091OWA"
      ]
    },
    {
      "cell_type": "code",
      "metadata": {
        "id": "m3sENn6SxIJl",
        "colab_type": "code",
        "colab": {
          "base_uri": "https://localhost:8080/",
          "height": 34
        },
        "outputId": "a834b85e-2dd9-44f6-a413-d0c81e9f9da6"
      },
      "source": [
        "!pwd"
      ],
      "execution_count": 7,
      "outputs": [
        {
          "output_type": "stream",
          "text": [
            "/content\n"
          ],
          "name": "stdout"
        }
      ]
    },
    {
      "cell_type": "code",
      "metadata": {
        "id": "ZWB72QI_wmVu",
        "colab_type": "code",
        "colab": {
          "base_uri": "https://localhost:8080/",
          "height": 34
        },
        "outputId": "cc736ac3-bcbe-437e-84fd-3ea132cee4b5"
      },
      "source": [
        "!ls"
      ],
      "execution_count": 1,
      "outputs": [
        {
          "output_type": "stream",
          "text": [
            "sample_data\n"
          ],
          "name": "stdout"
        }
      ]
    },
    {
      "cell_type": "code",
      "metadata": {
        "id": "Ig5JOdD_xLd0",
        "colab_type": "code",
        "colab": {
          "base_uri": "https://localhost:8080/",
          "height": 153
        },
        "outputId": "af49bd36-5d24-42dd-f844-dcd98c7f9f86"
      },
      "source": [
        "!git clone https://github.com/lukas/ml-class"
      ],
      "execution_count": 8,
      "outputs": [
        {
          "output_type": "stream",
          "text": [
            "Cloning into 'ml-class'...\n",
            "remote: Enumerating objects: 5, done.\u001b[K\n",
            "remote: Counting objects: 100% (5/5), done.\u001b[K\n",
            "remote: Compressing objects: 100% (5/5), done.\u001b[K\n",
            "remote: Total 9021 (delta 0), reused 0 (delta 0), pack-reused 9016\u001b[K\n",
            "Receiving objects: 100% (9021/9021), 136.12 MiB | 13.16 MiB/s, done.\n",
            "Resolving deltas: 100% (2175/2175), done.\n",
            "Checking out files: 100% (5555/5555), done.\n"
          ],
          "name": "stdout"
        }
      ]
    },
    {
      "cell_type": "code",
      "metadata": {
        "id": "B6gkWul4xT2G",
        "colab_type": "code",
        "colab": {
          "base_uri": "https://localhost:8080/",
          "height": 34
        },
        "outputId": "b7220ae1-9591-40bc-d6f5-40f060a1d86e"
      },
      "source": [
        "%cd ml-class"
      ],
      "execution_count": 12,
      "outputs": [
        {
          "output_type": "stream",
          "text": [
            "/content/ml-class\n"
          ],
          "name": "stdout"
        }
      ]
    },
    {
      "cell_type": "code",
      "metadata": {
        "id": "Imz6o-nsxsyo",
        "colab_type": "code",
        "colab": {}
      },
      "source": [
        "!pip install -r requirements.txt"
      ],
      "execution_count": 0,
      "outputs": []
    },
    {
      "cell_type": "code",
      "metadata": {
        "id": "m-8lFvFVxvVG",
        "colab_type": "code",
        "colab": {
          "base_uri": "https://localhost:8080/",
          "height": 34
        },
        "outputId": "846ff39d-fb39-47f5-8cb4-e0d0cf835d9e"
      },
      "source": [
        "%cd videos/intro\n"
      ],
      "execution_count": 16,
      "outputs": [
        {
          "output_type": "stream",
          "text": [
            "/content/ml-class/videos/intro\n"
          ],
          "name": "stdout"
        }
      ]
    },
    {
      "cell_type": "code",
      "metadata": {
        "id": "S06t8s2Xxz0T",
        "colab_type": "code",
        "colab": {}
      },
      "source": [
        "!wandb login"
      ],
      "execution_count": 0,
      "outputs": []
    },
    {
      "cell_type": "code",
      "metadata": {
        "id": "99zNZRxCzAjL",
        "colab_type": "code",
        "colab": {
          "base_uri": "https://localhost:8080/",
          "height": 170
        },
        "outputId": "62efe8d1-a491-452c-c531-4d9cdfffc5ba"
      },
      "source": [
        "!wandb init"
      ],
      "execution_count": 21,
      "outputs": [
        {
          "output_type": "stream",
          "text": [
            "\u001b[1mThis directory has been configured previously, should we re-configure it?\u001b[0m [y/N]: y\n",
            "What username or team should we use? [poisonivysaur]: \n",
            "Enter a name for your first project: ml-intro\n",
            "\u001b[32mThis directory is configured!  Next, track a run:\n",
            "\u001b[0m* In your training script:\n",
            "    \u001b[1mimport wandb\u001b[0m\n",
            "    \u001b[1mwandb.init(project=\"ml-intro\")\u001b[0m\n",
            "* then `\u001b[1mpython <train.py>\u001b[0m`.\n",
            "\n"
          ],
          "name": "stdout"
        }
      ]
    },
    {
      "cell_type": "markdown",
      "metadata": {
        "id": "sXridmtezPTc",
        "colab_type": "text"
      },
      "source": [
        "How the MNIST data we're going to be working on looks like:\n",
        "\n",
        "<img src=\"https://raw.githubusercontent.com/poisonivysaur/wandb-ml-class-OCR/master/mnist.png\" />"
      ]
    },
    {
      "cell_type": "code",
      "metadata": {
        "id": "f5iteHT49BqK",
        "colab_type": "code",
        "colab": {
          "base_uri": "https://localhost:8080/",
          "height": 462
        },
        "outputId": "be80da08-f84b-4297-fb6d-7a43a59b4131"
      },
      "source": [
        "from keras.datasets import mnist\n",
        "from keras.models import Sequential\n",
        "from keras.layers import Dense, Flatten, Dropout\n",
        "from keras.utils import np_utils\n",
        "\n",
        "import wandb\n",
        "from wandb.keras import WandbCallback\n",
        "\n",
        "# logging code\n",
        "run = wandb.init()\n",
        "config = run.config\n",
        "\n",
        "config.epochs = 10\n",
        "# DEBUGGING 1: train for more epochs to see if accuracy has improved etc.\n",
        "# config.epochs = 100\n",
        "\n",
        "# load data\n",
        "(X_train, y_train), (X_test, y_test) = mnist.load_data()\n",
        "\n",
        "is_five_train = y_train == 5\n",
        "is_five_test = y_test == 5\n",
        "labels = [\"Not Five\", \"Is Five\"]\n",
        "\n",
        "img_width = X_train.shape[1]\n",
        "img_height = X_train.shape[2]\n",
        "\n",
        "# create model\n",
        "model=Sequential()\n",
        "model.add(Flatten(input_shape=(img_width,img_height)))\n",
        "model.add(Dense(1, activation=\"sigmoid\")) #sigmoid function is the activation function\n",
        "model.compile(loss='mse', optimizer='adam',\n",
        "                metrics=['accuracy'])\n",
        "\n",
        "# Fit the model\n",
        "model.fit(X_train, is_five_train, epochs=config.epochs, validation_data=(X_test, is_five_test),\n",
        "                    callbacks=[WandbCallback(labels=labels, data_type=\"image\")])\n",
        "\n",
        "# DEBUGGING 2: will the model learn to fit in a tiny subset of data e.g. 20 \n",
        "# should be able to get a 100% accuracy just by overfitting\n",
        "# model.fit(X_train[:20, :, :], is_five_train[:20], epochs=config.epochs, validation_data=(X_test, is_five_test),\n",
        "#                     callbacks=[WandbCallback(labels=labels, data_type=\"image\")])\n",
        "\n",
        "# DEBUGGING 3: the next thing to try is to look at what the model is outputting\n",
        "# print(model.predict(X_test[:10, :, :]))\n",
        "# here we found out that outputs var between very negative numbers to numbers > 200\n"
      ],
      "execution_count": 24,
      "outputs": [
        {
          "output_type": "display_data",
          "data": {
            "text/html": [
              "\n",
              "                Logging results to <a href=\"https://wandb.com\" target=\"_blank\">Weights & Biases</a> <a href=\"https://docs.wandb.com/integrations/jupyter.html\" target=\"_blank\">(Documentation)</a>.<br/>\n",
              "                Project page: <a href=\"https://app.wandb.ai/poisonivysaur/ml-intro\" target=\"_blank\">https://app.wandb.ai/poisonivysaur/ml-intro</a><br/>\n",
              "                Run page: <a href=\"https://app.wandb.ai/poisonivysaur/ml-intro/runs/26pq92cu\" target=\"_blank\">https://app.wandb.ai/poisonivysaur/ml-intro/runs/26pq92cu</a><br/>\n",
              "            "
            ],
            "text/plain": [
              "<IPython.core.display.HTML object>"
            ]
          },
          "metadata": {
            "tags": []
          }
        },
        {
          "output_type": "stream",
          "text": [
            "Train on 60000 samples, validate on 10000 samples\n",
            "Epoch 1/10\n",
            "60000/60000 [==============================] - 2s 41us/step - loss: 0.0923 - acc: 0.9077 - val_loss: 0.0892 - val_acc: 0.9108\n",
            "Epoch 2/10\n",
            "60000/60000 [==============================] - 2s 38us/step - loss: 0.0903 - acc: 0.9097 - val_loss: 0.0892 - val_acc: 0.9108\n",
            "Epoch 3/10\n",
            "60000/60000 [==============================] - 2s 39us/step - loss: 0.0903 - acc: 0.9097 - val_loss: 0.0892 - val_acc: 0.9108\n",
            "Epoch 4/10\n",
            "60000/60000 [==============================] - 2s 39us/step - loss: 0.0903 - acc: 0.9097 - val_loss: 0.0892 - val_acc: 0.9108\n",
            "Epoch 5/10\n",
            "60000/60000 [==============================] - 2s 38us/step - loss: 0.0903 - acc: 0.9097 - val_loss: 0.0892 - val_acc: 0.9108\n",
            "Epoch 6/10\n",
            "60000/60000 [==============================] - 2s 40us/step - loss: 0.0903 - acc: 0.9097 - val_loss: 0.0892 - val_acc: 0.9108\n",
            "Epoch 7/10\n",
            "60000/60000 [==============================] - 2s 39us/step - loss: 0.0903 - acc: 0.9097 - val_loss: 0.0892 - val_acc: 0.9108\n",
            "Epoch 8/10\n",
            "60000/60000 [==============================] - 2s 39us/step - loss: 0.0903 - acc: 0.9097 - val_loss: 0.0892 - val_acc: 0.9108\n",
            "Epoch 9/10\n",
            "60000/60000 [==============================] - 2s 39us/step - loss: 0.0903 - acc: 0.9097 - val_loss: 0.0892 - val_acc: 0.9108\n",
            "Epoch 10/10\n",
            "60000/60000 [==============================] - 2s 38us/step - loss: 0.0903 - acc: 0.9097 - val_loss: 0.0892 - val_acc: 0.9108\n"
          ],
          "name": "stdout"
        },
        {
          "output_type": "execute_result",
          "data": {
            "text/plain": [
              "<keras.callbacks.History at 0x7fdcc5adbd30>"
            ]
          },
          "metadata": {
            "tags": []
          },
          "execution_count": 24
        }
      ]
    },
    {
      "cell_type": "markdown",
      "metadata": {
        "id": "S0uWz7IHC_34",
        "colab_type": "text"
      },
      "source": [
        "### Whenever we're building machine learning models, we have 3 ways to make models better:\n",
        "\n",
        "1) improve algorithms <br>\n",
        "2) improve data prep <br>\n",
        "3) add more training data (e.g. labeling 60,000 images)"
      ]
    },
    {
      "cell_type": "markdown",
      "metadata": {
        "id": "_GkKqVInMSFS",
        "colab_type": "text"
      },
      "source": [
        "### What we have covered in this session:\n",
        "1) Neural Network <br>\n",
        "2) Keras <br>\n",
        "3) Gradient Descent <br>\n",
        "4) Loss Functions <br>\n",
        "5) Activation Functions"
      ]
    }
  ]
}